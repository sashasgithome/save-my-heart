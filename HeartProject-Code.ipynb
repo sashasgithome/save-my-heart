{
  "nbformat": 4,
  "nbformat_minor": 0,
  "metadata": {
    "colab": {
      "provenance": []
    },
    "kernelspec": {
      "name": "python3",
      "display_name": "Python 3"
    },
    "language_info": {
      "name": "python"
    }
  },
  "cells": [
    {
      "cell_type": "markdown",
      "source": [
        "#Classifying Patient on Heart Attack Complication (Arrhythmia) Risk\n",
        "\n",
        "> *Topic* : Random Forest Classifier for Feature Selection and KNN Algorithm\n",
        "\n",
        "> *Student* : Sasha A.\n",
        "\n"
      ],
      "metadata": {
        "id": "HRUGQNa7jbLK"
      }
    },
    {
      "cell_type": "markdown",
      "source": [
        "##I. Model Creation"
      ],
      "metadata": {
        "id": "KfG1BaDEjUUn"
      }
    },
    {
      "cell_type": "markdown",
      "source": [
        "###Part 1 : Importing Libraries"
      ],
      "metadata": {
        "id": "cerfD0i-ZGnX"
      }
    },
    {
      "cell_type": "code",
      "source": [
        "import pandas as pd\n",
        "from sklearn.ensemble import RandomForestClassifier\n",
        "from sklearn.feature_selection import SelectFromModel\n",
        "from sklearn.impute import SimpleImputer\n",
        "from sklearn.preprocessing import StandardScaler, LabelEncoder\n",
        "from sklearn.neighbors import KNeighborsClassifier\n",
        "from sklearn.model_selection import train_test_split\n",
        "from sklearn.metrics import classification_report, accuracy_score, f1_score, precision_score, recall_score\n"
      ],
      "metadata": {
        "id": "WbcOEklHXFv8"
      },
      "execution_count": null,
      "outputs": []
    },
    {
      "cell_type": "markdown",
      "source": [
        "###Part 2 : Data Acquisition"
      ],
      "metadata": {
        "id": "m2D4wSrTi5fC"
      }
    },
    {
      "cell_type": "code",
      "source": [
        "filename = '/content/Myocardial infarction complications Database.csv'"
      ],
      "metadata": {
        "id": "mqsttwBChsGL"
      },
      "execution_count": null,
      "outputs": []
    },
    {
      "cell_type": "code",
      "source": [
        "data = pd.read_csv(filename)\n",
        "\n",
        "# Define features and target variable\n",
        "features = data.columns[2:113]  # Assuming features 2-112 are input data\n",
        "target = 'FIBR_JELUD'"
      ],
      "metadata": {
        "id": "sTv7BccSsx6e"
      },
      "execution_count": null,
      "outputs": []
    },
    {
      "cell_type": "markdown",
      "source": [
        "###Part 3 : Data Pre-processing"
      ],
      "metadata": {
        "id": "cjCf7f3-i9XX"
      }
    },
    {
      "cell_type": "code",
      "source": [
        "# Display basic information about the data\n",
        "print(data.info())\n",
        "print(data.head())"
      ],
      "metadata": {
        "colab": {
          "base_uri": "https://localhost:8080/"
        },
        "id": "atIOkuiIstXM",
        "outputId": "d0d1021a-2f6e-44e4-adaa-8ea60f6f141e"
      },
      "execution_count": null,
      "outputs": [
        {
          "output_type": "stream",
          "name": "stdout",
          "text": [
            "<class 'pandas.core.frame.DataFrame'>\n",
            "RangeIndex: 1700 entries, 0 to 1699\n",
            "Columns: 124 entries, ID to LET_IS\n",
            "dtypes: float64(110), int64(14)\n",
            "memory usage: 1.6 MB\n",
            "None\n",
            "   ID   AGE  SEX  INF_ANAM  STENOK_AN  FK_STENOK  IBS_POST  IBS_NASL   GB  \\\n",
            "0   1  77.0    1       2.0        1.0        1.0       2.0       NaN  3.0   \n",
            "1   2  55.0    1       1.0        0.0        0.0       0.0       0.0  0.0   \n",
            "2   3  52.0    1       0.0        0.0        0.0       2.0       NaN  2.0   \n",
            "3   4  68.0    0       0.0        0.0        0.0       2.0       NaN  2.0   \n",
            "4   5  60.0    1       0.0        0.0        0.0       2.0       NaN  3.0   \n",
            "\n",
            "   SIM_GIPERT  ...  JELUD_TAH  FIBR_JELUD  A_V_BLOK  OTEK_LANC  RAZRIV  \\\n",
            "0         0.0  ...          0           0         0          0       0   \n",
            "1         0.0  ...          0           0         0          0       0   \n",
            "2         0.0  ...          0           0         0          0       0   \n",
            "3         0.0  ...          0           0         0          0       0   \n",
            "4         0.0  ...          0           0         0          0       0   \n",
            "\n",
            "   DRESSLER  ZSN  REC_IM  P_IM_STEN  LET_IS  \n",
            "0         0    0       0          0       0  \n",
            "1         0    0       0          0       0  \n",
            "2         0    0       0          0       0  \n",
            "3         0    1       0          0       0  \n",
            "4         0    0       0          0       0  \n",
            "\n",
            "[5 rows x 124 columns]\n"
          ]
        }
      ]
    },
    {
      "cell_type": "code",
      "source": [
        "X = data[features]\n",
        "y = data[target]"
      ],
      "metadata": {
        "id": "qaglreiRXssr"
      },
      "execution_count": null,
      "outputs": []
    },
    {
      "cell_type": "code",
      "source": [
        "# Handle missing values temporarily for feature selection\n",
        "X = X.fillna(X.mean())"
      ],
      "metadata": {
        "id": "UDw3mcAJsvtt"
      },
      "execution_count": null,
      "outputs": []
    },
    {
      "cell_type": "markdown",
      "source": [
        "###Part 4 : Feature Selection/Extraction"
      ],
      "metadata": {
        "id": "Ph6EoB-6jCCr"
      }
    },
    {
      "cell_type": "code",
      "source": [
        "# Train a random forest classifier to determine feature importance\n",
        "forest = RandomForestClassifier(n_estimators=100, random_state=42)\n",
        "forest.fit(X, y)\n",
        "\n",
        "# Select the top 10 features\n",
        "selector = SelectFromModel(forest, max_features=10, prefit=True)\n",
        "X_reduced = selector.transform(X)\n",
        "selected_features = X.columns[selector.get_support()]\n"
      ],
      "metadata": {
        "id": "-Lm8_mbLirD8",
        "colab": {
          "base_uri": "https://localhost:8080/"
        },
        "outputId": "58e04f77-1622-4309-c836-4015db90e1c2"
      },
      "execution_count": null,
      "outputs": [
        {
          "output_type": "stream",
          "name": "stderr",
          "text": [
            "/usr/local/lib/python3.10/dist-packages/sklearn/base.py:432: UserWarning: X has feature names, but SelectFromModel was fitted without feature names\n",
            "  warnings.warn(\n"
          ]
        }
      ]
    },
    {
      "cell_type": "code",
      "source": [
        "selected_features"
      ],
      "metadata": {
        "colab": {
          "base_uri": "https://localhost:8080/"
        },
        "id": "gODQo-g0tOPx",
        "outputId": "472caf00-9d60-40e2-9df7-f74fe345750f"
      },
      "execution_count": null,
      "outputs": [
        {
          "output_type": "execute_result",
          "data": {
            "text/plain": [
              "Index(['S_AD_KBRIG', 'S_AD_ORIT', 'D_AD_ORIT', 'K_BLOOD', 'NA_BLOOD',\n",
              "       'ALT_BLOOD', 'AST_BLOOD', 'L_BLOOD', 'ROE', 'LID_S_n'],\n",
              "      dtype='object')"
            ]
          },
          "metadata": {},
          "execution_count": 8
        }
      ]
    },
    {
      "cell_type": "code",
      "source": [
        "from sklearn.impute import SimpleImputer\n",
        "\n",
        "# Select only the reduced set of features\n",
        "X = data[selected_features]\n",
        "\n",
        "# Impute missing values with the mean\n",
        "imputer = SimpleImputer(strategy='mean')\n",
        "X_imputed = imputer.fit_transform(X)\n",
        "\n",
        "# Verify that missing values are handled\n",
        "print(pd.DataFrame(X_imputed, columns=selected_features).isnull().sum())"
      ],
      "metadata": {
        "colab": {
          "base_uri": "https://localhost:8080/"
        },
        "id": "bCSalBFGtMyj",
        "outputId": "82c635b8-2ced-4b30-a204-7789f93f7703"
      },
      "execution_count": null,
      "outputs": [
        {
          "output_type": "stream",
          "name": "stdout",
          "text": [
            "S_AD_KBRIG    0\n",
            "S_AD_ORIT     0\n",
            "D_AD_ORIT     0\n",
            "K_BLOOD       0\n",
            "NA_BLOOD      0\n",
            "ALT_BLOOD     0\n",
            "AST_BLOOD     0\n",
            "L_BLOOD       0\n",
            "ROE           0\n",
            "LID_S_n       0\n",
            "dtype: int64\n"
          ]
        }
      ]
    },
    {
      "cell_type": "code",
      "source": [
        "from sklearn.preprocessing import LabelEncoder\n",
        "\n",
        "# Encode the target variable\n",
        "label_encoder = LabelEncoder()\n",
        "y_encoded = label_encoder.fit_transform(y)\n",
        "\n",
        "# Display the encoded classes\n",
        "print(\"Classes:\", label_encoder.classes_)"
      ],
      "metadata": {
        "colab": {
          "base_uri": "https://localhost:8080/"
        },
        "id": "TiA1UNOutT7l",
        "outputId": "2ccf959f-0079-4cea-f264-02acf0804eb8"
      },
      "execution_count": null,
      "outputs": [
        {
          "output_type": "stream",
          "name": "stdout",
          "text": [
            "Classes: [0 1]\n"
          ]
        }
      ]
    },
    {
      "cell_type": "markdown",
      "source": [
        "###Part 5 : Training/Testing KNN Classifier Model"
      ],
      "metadata": {
        "id": "k7pHGxnCjGNr"
      }
    },
    {
      "cell_type": "code",
      "source": [
        "from sklearn.model_selection import train_test_split\n",
        "\n",
        "#Splitting the train/test data\n",
        "X_train, X_test, y_train, y_test = train_test_split(X_imputed, y_encoded, test_size=0.3, random_state=42)"
      ],
      "metadata": {
        "id": "I8E9aR-otWlJ"
      },
      "execution_count": null,
      "outputs": []
    },
    {
      "cell_type": "code",
      "source": [
        "from sklearn.preprocessing import StandardScaler\n",
        "\n",
        "#Standardizing the features\n",
        "scaler = StandardScaler()\n",
        "X_train_scaled = scaler.fit_transform(X_train)\n",
        "X_test_scaled = scaler.transform(X_test)"
      ],
      "metadata": {
        "id": "EN0PQ9yRtYUh"
      },
      "execution_count": null,
      "outputs": []
    },
    {
      "cell_type": "code",
      "source": [
        "from sklearn.neighbors import KNeighborsClassifier\n",
        "from sklearn.metrics import classification_report, accuracy_score\n",
        "\n",
        "# Train the k-NN classifier\n",
        "knn = KNeighborsClassifier(n_neighbors=5)  # Tune this hyperparameter\n",
        "knn.fit(X_train_scaled, y_train)\n",
        "\n",
        "# Predict and evaluate the classifier\n",
        "y_pred = knn.predict(X_test_scaled)\n"
      ],
      "metadata": {
        "id": "Wjn4nOI5taLB"
      },
      "execution_count": null,
      "outputs": []
    },
    {
      "cell_type": "markdown",
      "source": [
        "###Part 6 : Evaluation"
      ],
      "metadata": {
        "id": "9x_QJKRWjOrJ"
      }
    },
    {
      "cell_type": "code",
      "source": [
        "print('Accuracy:', accuracy_score(y_test, y_pred))"
      ],
      "metadata": {
        "colab": {
          "base_uri": "https://localhost:8080/"
        },
        "id": "nChVDYSBtg5T",
        "outputId": "054b9b30-6c84-4d28-e65c-c5ef71c35f3a"
      },
      "execution_count": null,
      "outputs": [
        {
          "output_type": "stream",
          "name": "stdout",
          "text": [
            "Accuracy: 0.9529411764705882\n"
          ]
        }
      ]
    },
    {
      "cell_type": "code",
      "source": [
        "from sklearn.model_selection import GridSearchCV\n",
        "\n",
        "# Define the parameter grid\n",
        "param_grid = {'n_neighbors': [3, 5, 7, 9, 11]}\n",
        "\n",
        "# Perform a grid search with cross-validation\n",
        "grid_search = GridSearchCV(KNeighborsClassifier(), param_grid, cv=5, scoring='accuracy')\n",
        "grid_search.fit(X_train_scaled, y_train)\n",
        "\n",
        "# Get the best model and evaluate it\n",
        "best_knn = grid_search.best_estimator_\n",
        "y_pred_best = best_knn.predict(X_test_scaled)\n",
        "print('Best Model Accuracy:', accuracy_score(y_test, y_pred_best))"
      ],
      "metadata": {
        "colab": {
          "base_uri": "https://localhost:8080/"
        },
        "id": "KYaKs5t4tkrL",
        "outputId": "3979951f-997b-4ce6-962f-1a6d4b759b08"
      },
      "execution_count": null,
      "outputs": [
        {
          "output_type": "stream",
          "name": "stdout",
          "text": [
            "Best Model Accuracy: 0.9529411764705882\n"
          ]
        }
      ]
    },
    {
      "cell_type": "markdown",
      "source": [
        "##II. User Implementation"
      ],
      "metadata": {
        "id": "VRhn6p1hjQ7L"
      }
    },
    {
      "cell_type": "code",
      "source": [
        "# Function to take user input for prediction\n",
        "def get_user_input():\n",
        "    user_data = {}\n",
        "    print(\"Please enter the following details:\")\n",
        "    for feature in selected_features:\n",
        "        user_data[feature] = float(input(f\"{feature}: \"))\n",
        "    return user_data\n",
        "\n",
        "# Function to preprocess the user input and make a prediction\n",
        "def predict_target(user_data):\n",
        "    # Convert user input to DataFrame\n",
        "    user_df = pd.DataFrame([user_data])\n",
        "\n",
        "    # Handle missing values\n",
        "    user_df_imputed = imputer.transform(user_df)\n",
        "\n",
        "    # Standardize the features\n",
        "    user_df_scaled = scaler.transform(user_df_imputed)\n",
        "\n",
        "    # Predict the target\n",
        "    prediction = knn.predict(user_df_scaled)\n",
        "    predicted_class = label_encoder.inverse_transform(prediction)\n",
        "\n",
        "    return predicted_class[0]\n"
      ],
      "metadata": {
        "id": "xBQN17fYt3aN"
      },
      "execution_count": null,
      "outputs": []
    },
    {
      "cell_type": "code",
      "source": [
        "# Main function to run the prediction\n",
        "if __name__ == \"__main__\":\n",
        "    user_data = get_user_input()\n",
        "    result = predict_target(user_data)\n",
        "    print(f\"The predicted target feature (LET_IS) is: {result}\")"
      ],
      "metadata": {
        "colab": {
          "base_uri": "https://localhost:8080/"
        },
        "id": "snTeavWVt5Oc",
        "outputId": "2db8b033-a176-4773-f604-0668ff234869"
      },
      "execution_count": null,
      "outputs": [
        {
          "output_type": "stream",
          "name": "stdout",
          "text": [
            "Please enter the following details:\n",
            "S_AD_KBRIG: 120\n",
            "S_AD_ORIT: 110\n",
            "D_AD_ORIT: 60\n",
            "K_BLOOD: 3.9\n",
            "NA_BLOOD: 136\n",
            "ALT_BLOOD: 0.15\n",
            "AST_BLOOD: 0.3\n",
            "L_BLOOD: 10.7\n",
            "ROE: 8\n",
            "LID_S_n: 0\n",
            "The predicted target feature (LET_IS) is: 0\n"
          ]
        }
      ]
    }
  ]
}